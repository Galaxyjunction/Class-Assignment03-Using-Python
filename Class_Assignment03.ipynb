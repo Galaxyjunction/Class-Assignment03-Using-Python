{
  "nbformat": 4,
  "nbformat_minor": 0,
  "metadata": {
    "colab": {
      "provenance": [],
      "authorship_tag": "ABX9TyNUWHdcvReYryJJOw5Iyq35",
      "include_colab_link": true
    },
    "kernelspec": {
      "name": "python3",
      "display_name": "Python 3"
    },
    "language_info": {
      "name": "python"
    }
  },
  "cells": [
    {
      "cell_type": "markdown",
      "metadata": {
        "id": "view-in-github",
        "colab_type": "text"
      },
      "source": [
        "<a href=\"https://colab.research.google.com/github/Galaxyjunction/Class-Assignment03-Using-Python/blob/main/Class_Assignment03.ipynb\" target=\"_parent\"><img src=\"https://colab.research.google.com/assets/colab-badge.svg\" alt=\"Open In Colab\"/></a>"
      ]
    },
    {
      "cell_type": "markdown",
      "source": [
        " * Name: **Kehkashan**\n",
        " * Roll no.: **00434132**\n",
        "\n",
        " * Python Assignment List Tuples and methods :\n",
        "\n",
        "1. Basic List Operations\n",
        "\n",
        "2. Create a list of five numbers and append a new number to it. Print the updated list.\n",
        "\n",
        "3. Extend a list [1, 2, 3] with another list [4, 5, 6]. Print the result.\n",
        "\n",
        "4. Insert the string \"Python\" at index 2 in the list [\"Java\", \"C++\", \"JavaScript\", \"Ruby\"].\n",
        "\n",
        "5. Remove the first occurrence of the number 10 from the list [10, 20, 30, 10, 40].\n",
        "\n",
        "* Use the pop() method to remove the last element from [100, 200, 300, 400] and print the modified list."
      ],
      "metadata": {
        "id": "jbWzOaOLRpU_"
      }
    },
    {
      "cell_type": "code",
      "source": [
        "# 1. Create a list of five numbers and append a new number to it. Print the updated list.\n",
        "\n",
        "numbers = [5, 10, 15, 20, 25]\n",
        "numbers.append(30)\n",
        "print(\"Updated List:\", numbers)\n"
      ],
      "metadata": {
        "colab": {
          "base_uri": "https://localhost:8080/"
        },
        "id": "xNEI38USSwf7",
        "outputId": "63b9ec79-12aa-4f6a-b8ea-5f4ed8c2a897"
      },
      "execution_count": 1,
      "outputs": [
        {
          "output_type": "stream",
          "name": "stdout",
          "text": [
            "Updated List: [5, 10, 15, 20, 25, 30]\n"
          ]
        }
      ]
    },
    {
      "cell_type": "code",
      "source": [
        "# 2. Extend a list [1, 2, 3] with another list [4, 5, 6]. Print the result.\n",
        "\n",
        "list1 = [1, 2, 3]\n",
        "list2 = [4, 5, 6]\n",
        "list1.extend(list2)\n",
        "print(\"Extended List:\", list1)"
      ],
      "metadata": {
        "colab": {
          "base_uri": "https://localhost:8080/"
        },
        "id": "i_INVIMMS748",
        "outputId": "7ab67b06-e8f8-42b2-e6a7-e2b6527055b8"
      },
      "execution_count": 2,
      "outputs": [
        {
          "output_type": "stream",
          "name": "stdout",
          "text": [
            "Extended List: [1, 2, 3, 4, 5, 6]\n"
          ]
        }
      ]
    },
    {
      "cell_type": "code",
      "source": [
        "# 3. Insert the string \"Python\" at index 2 in the list [\"Java\", \"C++\", \"JavaScript\", \"Ruby\"].\n",
        "\n",
        "languages = [\"Java\", \"C++\", \"JavaScript\", \"Ruby\"]\n",
        "languages.insert(2, \"Python\")\n",
        "print(\"Modified List:\", languages)"
      ],
      "metadata": {
        "colab": {
          "base_uri": "https://localhost:8080/"
        },
        "id": "6e_qOa5tS_OX",
        "outputId": "d92792e6-0e80-4220-94b8-24f64792f172"
      },
      "execution_count": 4,
      "outputs": [
        {
          "output_type": "stream",
          "name": "stdout",
          "text": [
            "Modified List: ['Java', 'C++', 'Python', 'JavaScript', 'Ruby']\n"
          ]
        }
      ]
    },
    {
      "cell_type": "code",
      "source": [
        "# 4. Remove the first occurrence of the number 10 from the list [10, 20, 30, 10, 40].\n",
        "\n",
        "num_list = [10, 20, 30, 10, 40]\n",
        "num_list.remove(10)\n",
        "print(\"List after removing first 10:\", num_list)"
      ],
      "metadata": {
        "colab": {
          "base_uri": "https://localhost:8080/"
        },
        "id": "eFu0Z0o4TRQy",
        "outputId": "ad876352-aa6e-4bf5-d4b4-754b5cc3ad84"
      },
      "execution_count": 5,
      "outputs": [
        {
          "output_type": "stream",
          "name": "stdout",
          "text": [
            "List after removing first 10: [20, 30, 10, 40]\n"
          ]
        }
      ]
    },
    {
      "cell_type": "code",
      "source": [
        "# 5. Use the pop() method to remove the last element from [100, 200, 300, 400] and print the modified list.\n",
        "\n",
        "values = [100, 200, 300, 400]\n",
        "values.pop()\n",
        "print(\"List after popping last element:\", values)"
      ],
      "metadata": {
        "colab": {
          "base_uri": "https://localhost:8080/"
        },
        "id": "13T6Ezt5Tg8K",
        "outputId": "812aa06b-aa19-4174-995d-5759ce449bd9"
      },
      "execution_count": 6,
      "outputs": [
        {
          "output_type": "stream",
          "name": "stdout",
          "text": [
            "List after popping last element: [100, 200, 300]\n"
          ]
        }
      ]
    },
    {
      "cell_type": "markdown",
      "source": [
        "* Intermediate List Operations\n",
        "\n",
        "6.  Count how many times the number 5 appears in the list [5, 10, 5, 20, 5, 30].\n",
        "\n",
        "7. Sort the list [9, 1, 8, 3, 5] in ascending and descending order.\n",
        "\n",
        "8. Reverse the list [“apple”, “banana”, “cherry”] using the reverse() method.\n",
        "\n",
        "9. Create a copy of the list [1, 2, 3, 4, 5] and store it in another variable. Modify the copied list and print both lists.\n",
        "\n",
        "10. Clear all elements from a list [“hello”, “world”, “python”] using the clear() method."
      ],
      "metadata": {
        "id": "4oyjq7_oT0LR"
      }
    },
    {
      "cell_type": "code",
      "source": [
        "# 6. Count how many times the number 5 appears in the list [5, 10, 5, 20, 5, 30].\n",
        "\n",
        "num_list = [5, 10, 5, 20, 5, 30]\n",
        "count_five = num_list.count(5)\n",
        "print(\"Count of 5:\", count_five)\n"
      ],
      "metadata": {
        "colab": {
          "base_uri": "https://localhost:8080/"
        },
        "id": "FAKHP0MGUAtV",
        "outputId": "c96fdd6c-d754-4e51-b49a-03fdcbabf528"
      },
      "execution_count": 11,
      "outputs": [
        {
          "output_type": "stream",
          "name": "stdout",
          "text": [
            "Count of 5: 3\n"
          ]
        }
      ]
    },
    {
      "cell_type": "code",
      "source": [],
      "metadata": {
        "id": "D-ObTptSWrl_"
      },
      "execution_count": null,
      "outputs": []
    },
    {
      "cell_type": "code",
      "source": [
        "# 7. Sort the list [9, 1, 8, 3, 5] in ascending and descending order.\n",
        "\n",
        "numbers = [9, 1, 8, 3, 5]\n",
        "numbers.sort()\n",
        "print(\"Ascending Order:\", numbers)\n",
        "\n",
        "numbers.sort(reverse=True)\n",
        "print(\"Descending Order:\", numbers)"
      ],
      "metadata": {
        "colab": {
          "base_uri": "https://localhost:8080/"
        },
        "id": "vXgGyx0tUv98",
        "outputId": "8614314c-c09c-438f-c106-8cc72a036fe4"
      },
      "execution_count": 9,
      "outputs": [
        {
          "output_type": "stream",
          "name": "stdout",
          "text": [
            "Ascending Order: [1, 3, 5, 8, 9]\n",
            "Descending Order: [9, 8, 5, 3, 1]\n"
          ]
        }
      ]
    },
    {
      "cell_type": "code",
      "source": [
        "# 8. Reverse the list [\"apple\", \"banana\", \"cherry\"] using the reverse() method.\n",
        "\n",
        "fruits = [\"apple\", \"banana\", \"cherry\"]\n",
        "fruits.reverse()\n",
        "print(\"Reversed List:\", fruits)"
      ],
      "metadata": {
        "colab": {
          "base_uri": "https://localhost:8080/"
        },
        "id": "eCfe1gWwVIBc",
        "outputId": "c48e6717-d747-404c-df67-d1eaec950580"
      },
      "execution_count": 10,
      "outputs": [
        {
          "output_type": "stream",
          "name": "stdout",
          "text": [
            "Reversed List: ['cherry', 'banana', 'apple']\n"
          ]
        }
      ]
    },
    {
      "cell_type": "code",
      "source": [
        " # 9. Create a copy of the list [1, 2, 3, 4, 5] and store it in another variable.\n",
        "\n",
        "original_list = [1, 2, 3, 4, 5]\n",
        "copied_list = original_list.copy()\n",
        "\n",
        "# Modify the copied list\n",
        "copied_list.append(6)\n",
        "\n",
        "print(\"Original List:\", original_list)\n",
        "print(\"Copied List (Modified):\", copied_list)"
      ],
      "metadata": {
        "colab": {
          "base_uri": "https://localhost:8080/"
        },
        "id": "I8VjUhbSVhPq",
        "outputId": "a3fbdb32-1e75-4535-fb64-1380a8805d5e"
      },
      "execution_count": 12,
      "outputs": [
        {
          "output_type": "stream",
          "name": "stdout",
          "text": [
            "Original List: [1, 2, 3, 4, 5]\n",
            "Copied List (Modified): [1, 2, 3, 4, 5, 6]\n"
          ]
        }
      ]
    },
    {
      "cell_type": "code",
      "source": [
        "# 10. Clear all elements from a list [\"hello\", \"world\", \"python\"] using the clear() method.\n",
        "\n",
        "words = [\"hello\", \"world\", \"python\"]\n",
        "words.clear()\n",
        "print(\"Cleared List:\", words)"
      ],
      "metadata": {
        "colab": {
          "base_uri": "https://localhost:8080/"
        },
        "id": "FJaJ5VQaWvo5",
        "outputId": "266280b6-bfea-4184-ef59-e2c9dcde6177"
      },
      "execution_count": 13,
      "outputs": [
        {
          "output_type": "stream",
          "name": "stdout",
          "text": [
            "Cleared List: []\n"
          ]
        }
      ]
    },
    {
      "cell_type": "markdown",
      "source": [
        "* Tuple-Based Questions\n",
        "\n",
        "11. Create a tuple with 5 different fruits and print the third fruit.\n",
        "12. Convert the tuple (10, 20, 30, 40, 50) into a list, remove the number 30, and convert it back into a tuple.\n",
        "13. Try to append an element to the tuple (“A”, “B”, “C”). What happens? How can you modify a tuple indirectly?\n",
        "14. Unpack the tuple (100, 200, 300) into three separate variables and print them.\n",
        "15. Count the occurrences of 7 in the tuple (7, 1, 7, 3, 7, 5)."
      ],
      "metadata": {
        "id": "zBbQ2lP-ZWTj"
      }
    },
    {
      "cell_type": "code",
      "source": [
        "# 11. Create a tuple with 5 different fruits and print the third fruit.\n",
        "\n",
        "fruits = (\"apple\", \"banana\", \"cherry\", \"grape\", \"mango\")\n",
        "print(\"Third fruit:\", fruits[2])"
      ],
      "metadata": {
        "colab": {
          "base_uri": "https://localhost:8080/"
        },
        "id": "UcdWJExEW_fr",
        "outputId": "90b2c1fa-e5aa-496a-b758-ad9fcdf6d5ba"
      },
      "execution_count": 14,
      "outputs": [
        {
          "output_type": "stream",
          "name": "stdout",
          "text": [
            "Third fruit: cherry\n"
          ]
        }
      ]
    },
    {
      "cell_type": "code",
      "source": [
        "# 12. Convert the tuple (10, 20, 30, 40, 50) into a list, remove the number 30, and convert it back into a tuple.\n",
        "\n",
        "numbers_tuple = (10, 20, 30, 40, 50)\n",
        "numbers_list = list(numbers_tuple)  # Convert to list\n",
        "numbers_list.remove(30)  # Remove 30\n",
        "numbers_tuple = tuple(numbers_list)  # Convert back to tuple\n",
        "print(\"Modified Tuple:\", numbers_tuple)\n"
      ],
      "metadata": {
        "colab": {
          "base_uri": "https://localhost:8080/"
        },
        "id": "GyLiPk5vXI6F",
        "outputId": "a0e363d5-86bb-4fda-aeeb-e3830db923bd"
      },
      "execution_count": 15,
      "outputs": [
        {
          "output_type": "stream",
          "name": "stdout",
          "text": [
            "Modified Tuple: (10, 20, 40, 50)\n"
          ]
        }
      ]
    },
    {
      "cell_type": "code",
      "source": [
        "# 13. Try to append an element to the tuple (“A”, “B”, “C”). What happens? How can you modify a tuple indirectly?\n",
        "\n",
        "letters = (\"A\", \"B\", \"C\")\n",
        "try:\n",
        "    letters.append(\"D\")  # Tuples are immutable, this will raise an AttributeError\n",
        "except AttributeError as e:\n",
        "    print(\"Error:\", e)\n",
        "\n",
        "# Indirectly modifying a tuple (convert to list, modify, then convert back to tuple)\n",
        "letters_list = list(letters)\n",
        "letters_list.append(\"D\")\n",
        "letters = tuple(letters_list)\n",
        "print(\"Modified Tuple:\", letters)"
      ],
      "metadata": {
        "colab": {
          "base_uri": "https://localhost:8080/"
        },
        "id": "gRGfy3dYXJQX",
        "outputId": "c1c85b7f-8393-4135-dbde-2d32d2f26fbb"
      },
      "execution_count": 16,
      "outputs": [
        {
          "output_type": "stream",
          "name": "stdout",
          "text": [
            "Error: 'tuple' object has no attribute 'append'\n",
            "Modified Tuple: ('A', 'B', 'C', 'D')\n"
          ]
        }
      ]
    },
    {
      "cell_type": "code",
      "source": [
        "# 14. Unpack the tuple (100, 200, 300) into three separate variables and print them.\n",
        "\n",
        "num_tuple = (100, 200, 300)\n",
        "a, b, c = num_tuple\n",
        "print(\"Unpacked values:\", a, b, c)"
      ],
      "metadata": {
        "colab": {
          "base_uri": "https://localhost:8080/"
        },
        "id": "sWpCoceNXJcq",
        "outputId": "3e2848a1-41eb-4079-9924-af22a3e44046"
      },
      "execution_count": 17,
      "outputs": [
        {
          "output_type": "stream",
          "name": "stdout",
          "text": [
            "Unpacked values: 100 200 300\n"
          ]
        }
      ]
    },
    {
      "cell_type": "code",
      "source": [
        "# 5. Count the occurrences of 7 in the tuple (7, 1, 7, 3, 7, 5).\n",
        "\n",
        "count_tuple = (7, 1, 7, 3, 7, 5)\n",
        "count_seven = count_tuple.count(7)\n",
        "print(\"Occurrences of 7:\", count_seven)"
      ],
      "metadata": {
        "colab": {
          "base_uri": "https://localhost:8080/"
        },
        "id": "pcn5pMi2XKFt",
        "outputId": "9e3354cd-9652-49c8-c4b1-c9b87e527fdd"
      },
      "execution_count": 18,
      "outputs": [
        {
          "output_type": "stream",
          "name": "stdout",
          "text": [
            "Occurrences of 7: 3\n"
          ]
        }
      ]
    },
    {
      "cell_type": "markdown",
      "source": [
        "* Advanced Problems\n",
        "16. Write a function that takes a list and returns a new list with all even numbers removed.\n",
        "17. Create a function that accepts a list and returns a new list with elements sorted in descending order without using the sort() method.\n",
        "18. Given a list of numbers, write a program to remove all duplicate elements and print the unique elements.\n",
        "19. Given a tuple of names (“Alice”, “Bob”, “Charlie”, “Alice”, “David”), convert it into a list, remove duplicates, and convert it back to a tuple.\n",
        "20. Create a program that takes a list of mixed data types (int, str, float) and separates integers into one list, strings into another, and floats into another."
      ],
      "metadata": {
        "id": "RSPWEBGJYhxq"
      }
    },
    {
      "cell_type": "code",
      "source": [
        "# 16. Function to remove all even numbers from a list\n",
        "\n",
        "def remove_even_numbers(lst):\n",
        "    return [num for num in lst if num % 2 != 0]\n",
        "\n",
        "numbers = [1, 2, 3, 4, 5, 6, 7, 8, 9, 10]\n",
        "print(\"List after removing evens:\", remove_even_numbers(numbers))"
      ],
      "metadata": {
        "colab": {
          "base_uri": "https://localhost:8080/"
        },
        "id": "RtaFsYOuZvSf",
        "outputId": "9de540dd-18eb-449b-89ba-7d085aa38dcd"
      },
      "execution_count": 19,
      "outputs": [
        {
          "output_type": "stream",
          "name": "stdout",
          "text": [
            "List after removing evens: [1, 3, 5, 7, 9]\n"
          ]
        }
      ]
    },
    {
      "cell_type": "code",
      "source": [
        "# 17. Function to sort a list in descending order without using sort()\n",
        "\n",
        "def custom_sort_desc(lst):\n",
        "    sorted_list = []\n",
        "    while lst:\n",
        "        max_val = max(lst)\n",
        "        sorted_list.append(max_val)\n",
        "        lst.remove(max_val)\n",
        "    return sorted_list\n",
        "\n",
        "numbers = [9, 1, 8, 3, 5]\n",
        "print(\"Sorted List (Descending):\", custom_sort_desc(numbers))"
      ],
      "metadata": {
        "colab": {
          "base_uri": "https://localhost:8080/"
        },
        "id": "T1HnAbmNaGvg",
        "outputId": "bdab788d-596b-457d-9802-1096020da2ac"
      },
      "execution_count": 21,
      "outputs": [
        {
          "output_type": "stream",
          "name": "stdout",
          "text": [
            "Sorted List (Descending): [9, 8, 5, 3, 1]\n"
          ]
        }
      ]
    },
    {
      "cell_type": "code",
      "source": [
        "# 18. Remove duplicate elements from a list\n",
        "\n",
        "def remove_duplicates(lst):\n",
        "    return list(set(lst))\n",
        "\n",
        "numbers = [1, 2, 2, 3, 4, 4, 5, 6, 6]\n",
        "print(\"Unique elements:\", remove_duplicates(numbers))"
      ],
      "metadata": {
        "colab": {
          "base_uri": "https://localhost:8080/"
        },
        "id": "xlJnrLA0aUQf",
        "outputId": "3d09c876-ec1d-4e82-c435-844bc083a5df"
      },
      "execution_count": 22,
      "outputs": [
        {
          "output_type": "stream",
          "name": "stdout",
          "text": [
            "Unique elements: [1, 2, 3, 4, 5, 6]\n"
          ]
        }
      ]
    },
    {
      "cell_type": "code",
      "source": [
        "# 19.. Convert a tuple into a list, remove duplicates, and convert it back to a tuple\n",
        "\n",
        "names_tuple = (\"Kehkashan\", \"Iqra\", \"Manha\", \"Iqra\", \"Manha\")\n",
        "names_list = list(set(names_tuple))  # Convert to set to remove duplicates, then back to list\n",
        "names_tuple = tuple(names_list)  # Convert back to tuple\n",
        "print(\"Tuple after removing duplicates:\", names_tuple)\n"
      ],
      "metadata": {
        "colab": {
          "base_uri": "https://localhost:8080/"
        },
        "id": "5QwINnaZab0f",
        "outputId": "71dfbd09-013a-4479-98eb-fdcb95ee5986"
      },
      "execution_count": 27,
      "outputs": [
        {
          "output_type": "stream",
          "name": "stdout",
          "text": [
            "Tuple after removing duplicates: ('Kehkashan', 'Manha', 'Iqra')\n"
          ]
        }
      ]
    },
    {
      "cell_type": "code",
      "source": [
        "# 20. Separate integers, strings, and floats into different lists\n",
        "\n",
        "def separate_data_types(mixed_list):\n",
        "    int_list = [item for item in mixed_list if isinstance(item, int)]\n",
        "    str_list = [item for item in mixed_list if isinstance(item, str)]\n",
        "    float_list = [item for item in mixed_list if isinstance(item, float)]\n",
        "    return int_list, str_list, float_list\n",
        "\n",
        "mixed_data = [10, \"hello\", 3.5, 20, \"world\", 4.8, 30, \"Python\"]\n",
        "integers, strings, floats = separate_data_types(mixed_data)\n",
        "print(\"Integers:\", integers)\n",
        "print(\"Strings:\", strings)\n",
        "print(\"Floats:\", floats)"
      ],
      "metadata": {
        "colab": {
          "base_uri": "https://localhost:8080/"
        },
        "id": "iqwaD560bcfp",
        "outputId": "efd67898-4562-4abb-9d05-2b1a6cf1f32a"
      },
      "execution_count": 28,
      "outputs": [
        {
          "output_type": "stream",
          "name": "stdout",
          "text": [
            "Integers: [10, 20, 30]\n",
            "Strings: ['hello', 'world', 'Python']\n",
            "Floats: [3.5, 4.8]\n"
          ]
        }
      ]
    }
  ]
}